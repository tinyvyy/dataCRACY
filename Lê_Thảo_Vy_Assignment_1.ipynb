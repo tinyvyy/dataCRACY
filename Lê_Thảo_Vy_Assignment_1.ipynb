{
  "nbformat": 4,
  "nbformat_minor": 0,
  "metadata": {
    "colab": {
      "name": "Lê Thảo Vy - Assignment 1.ipynb",
      "provenance": [],
      "collapsed_sections": [],
      "authorship_tag": "ABX9TyNuRfaRqnX6KTs+IUpyZ0zT",
      "include_colab_link": true
    },
    "kernelspec": {
      "name": "python3",
      "display_name": "Python 3"
    },
    "language_info": {
      "name": "python"
    }
  },
  "cells": [
    {
      "cell_type": "markdown",
      "metadata": {
        "id": "view-in-github",
        "colab_type": "text"
      },
      "source": [
        "<a href=\"https://colab.research.google.com/github/tinyvyy/dataCRACY/blob/master/L%C3%AA_Th%E1%BA%A3o_Vy_Assignment_1.ipynb\" target=\"_parent\"><img src=\"https://colab.research.google.com/assets/colab-badge.svg\" alt=\"Open In Colab\"/></a>"
      ]
    },
    {
      "cell_type": "code",
      "metadata": {
        "id": "M2CscYHUyYJA"
      },
      "source": [
        "#This program says hello and ask for my name\n",
        "\n",
        "print('Hello world')\n",
        "print('What is your name?') #ask for their name \n",
        "myName=input()\n",
        "print('It is good to meet you, ' + myName)\n",
        "print('The length of your name is:')\n",
        "print(len(myName))\n",
        "print('What is your age?') #ask for their age \n",
        "myAge=input()\n",
        "print('You will be '+str(int(myAge)+1)+ ' in a year')\n"
      ],
      "execution_count": null,
      "outputs": []
    },
    {
      "cell_type": "code",
      "metadata": {
        "id": "ls8kFl98y0FU"
      },
      "source": [
        "#Flow Control - A Short Program: Rock, Paper, Scissors\n",
        "\n",
        "import random, sys\n",
        "print('ROCK, PAPER, SCISSORS')\n",
        "\n",
        "# These variables keep track of the number of wins, losses, and ties.\n",
        "wins = 0\n",
        "loses = 0\n",
        "ties = 0\n",
        "\n",
        "while True: #The main game loop\n",
        "    print('%s Wins, %s Losses, %s Ties' %(wins, loses, ties))\n",
        "    while True: #the player input loop\n",
        "        print('Enter your move: (r)ock (p)aper (s)cissors or (q)uit')\n",
        "        playerMove = input()\n",
        "        if playerMove == 'q':\n",
        "          sys.exit() #Quit the program.\n",
        "        if playerMove == 'r' or playerMove == 'p' or playerMove == 's':\n",
        "          break #break out of the player input loop\n",
        "        print('Type one of r, p, s, or q.')\n",
        "\n",
        "    #Display what the player chose\n",
        "    if playerMove == 'r':\n",
        "      print('ROCK versus...')\n",
        "    elif playerMove == 'p':\n",
        "      print('PAPER versus...')\n",
        "    elif playerMove == 's':\n",
        "      print('SCISSORS versus...')\n",
        "\n",
        "    #Display what the computer chose\n",
        "    randomNumber = random.randint(1,3)\n",
        "    if randomNumber == 1:\n",
        "        computerMove == 'r'\n",
        "        print('ROCK')\n",
        "    elif randomNumber == 2:\n",
        "        computerMove == 'p'\n",
        "        print('PAPER')\n",
        "    elif randomNumber == 3:\n",
        "        computerMove == 's'\n",
        "        print('SCISSORS')\n",
        "\n",
        "    #Display and record the win/loss/tie:\n",
        "    if playerMove == computerMove:\n",
        "        print('It is a tie!')\n",
        "        ties = ties + 1\n",
        "    elif playerMove == 'r' and computerMove == 's':\n",
        "        print('You win!')\n",
        "        wins = wins + 1\n",
        "    elif playerMove == 'p' and computerMove == 'r':\n",
        "        print('You win!')\n",
        "        wins = wins + 1\n",
        "    elif playerMove == 's' and computerMove == 'p':\n",
        "        print('You win!')\n",
        "        wins = wins + 1\n",
        "    elif playerMove == 'r' and computerMove == 'p':\n",
        "        print('You lose!')\n",
        "        losses = losses + 1\n",
        "    elif playerMove == 'p' and computerMove == 's':\n",
        "        print('You lose!')\n",
        "        losses = losses + 1\n",
        "    elif playerMove == 's' and computerMove == 'r':\n",
        "        print('You lose!')\n",
        "        losses = losses + 1"
      ],
      "execution_count": null,
      "outputs": []
    },
    {
      "cell_type": "code",
      "metadata": {
        "id": "UUL4Fb_aVKKy"
      },
      "source": [
        "import time, sys\n",
        "indent = 0 #how many spaces to indent.\n",
        "indentIncreasing = True #Whether the indentation is increasing or not \n",
        "\n",
        "try:\n",
        "  while True: #The main program loop\n",
        "    print(' ' * indent, end='')\n",
        "    print('********')\n",
        "    time.sleep(0.1) #Pause for 1/10 of a second.\n",
        "\n",
        "    if indentIncreasing: \n",
        "        #Increase the number of spaces:\n",
        "        indent = indent + 1\n",
        "        if indent == 20: \n",
        "            #Change direction:\n",
        "              indentIncreasing = False \n",
        "\n",
        "    else:\n",
        "        #Decrease the number of spaces:\n",
        "        indent = indent - 1\n",
        "        if indent == 0:\n",
        "            #Change direction:\n",
        "            indentIncreasing = True \n",
        "\n",
        "except KeyboardInterrupt:\n",
        "    sys.exit()\n"
      ],
      "execution_count": null,
      "outputs": []
    },
    {
      "cell_type": "code",
      "metadata": {
        "id": "_k1NwfHYwjY9"
      },
      "source": [
        "# Conway's Game of Life\n",
        "import random, time, copy\n",
        "WIDTH = 60\n",
        "HEIGHT = 20\n",
        "\n",
        "# Create a list of list for the cells:\n",
        "nextCells = []\n",
        "for x in range(WIDTH):\n",
        "  column = [] # Create a new column.\n",
        "  for y in range(HEIGHT):\n",
        "    if random.randint(0, 1) == 0:\n",
        "      column.append('#') # Add a living cell.\n",
        "    else:\n",
        "      column.append(' ') # Add a dead cell.\n",
        "  nextCells.append(column) # nextCells is a list of column lists.\n",
        "\n",
        "while True: # Main program loop.\n",
        "  print('\\n\\n\\n\\n\\n') # Separate each step with newlines.\n",
        "  currentCells = copy.deepcopy(nextCells)\n",
        "\n",
        "  # Print currentCells on the screen:\n",
        "  for y in range(HEIGHT):\n",
        "    for x in range(WIDTH):\n",
        "      print(currentCells[x][y], end='') # Print the # or space.\n",
        "    print() # Print a newline at the end of the row.\n",
        "\n",
        "  # Calculate the next step's cells based on current step's cells:\n",
        "  for x in range(WIDTH):\n",
        "    for y in range(HEIGHT):\n",
        "      # Get neighboring coordinates:\n",
        "      # `% WIDTH` ensures leftCoord is always between 0 and WIDTH - 1\n",
        "      leftCoord = (x - 1) % WIDTH\n",
        "      rightCoord = (x + 1) % WIDTH\n",
        "      aboveCoord = (y - 1) % HEIGHT\n",
        "      belowCoord = (y + 1) % HEIGHT\n",
        "\n",
        "      # Count number of living neighbors:\n",
        "      numNeighbors = 0\n",
        "      if currentCells[leftCoord][aboveCoord] == '#':\n",
        "        numNeighbors += 1 # Top-left neighbor is alive.\n",
        "      if currentCells[x][aboveCoord] == '#':\n",
        "        numNeighbors += 1 # Top neighbor is alive.\n",
        "      if currentCells[rightCoord][aboveCoord] == '#':\n",
        "        numNeighbors += 1 # Top-right neighbor is alive.\n",
        "      if currentCells[leftCoord][y] == '#':\n",
        "        numNeighbors += 1 # Left neighbor is alive.   \n",
        "      if currentCells[rightCoord][y] == '#':\n",
        "        numNeighbors += 1 # Right neighbor is alive.\n",
        "      if currentCells[leftCoord][belowCoord] == '#':\n",
        "        numNeighbors += 1 # Bottom-left neighbor is alive.\n",
        "      if currentCells[x][belowCoord] == '#':\n",
        "        numNeighbors += 1 # Bottom neighbor is alive.\n",
        "      if currentCells[rightCoord][belowCoord] == '#':\n",
        "        numNeighbors += 1 # Bottom-right neighbor is alive.\n",
        "\n",
        "      # Set cell based on Conway's Game of Life rules:\n",
        "      if currentCells[x][y] == '#' and (numNeighbors == 2 or numNeighbors == 3):\n",
        "        # Living cells with 2 or 3 neighbors stay alive:\n",
        "        nextCells[x][y] = '#'\n",
        "      elif currentCells[x][y] == ' ' and numNeighbors == 3:\n",
        "        # Dead cells with 3 neighbors become alive:\n",
        "        nextCells[x][y] = '#'\n",
        "      else:\n",
        "        # Everything else dies or stays dead:\n",
        "        nextCells[x][y] = ' '\n",
        "  time.sleep(1) # Add a 1-second pause to reduce flickering."
      ],
      "execution_count": null,
      "outputs": []
    },
    {
      "cell_type": "code",
      "metadata": {
        "colab": {
          "base_uri": "https://localhost:8080/"
        },
        "id": "tgj-mzHiydSQ",
        "outputId": "4ce4f63e-9aa6-4ddd-b281-2eae4f98328a"
      },
      "source": [
        "theBoard = {'top-L': ' ', 'top-M': ' ', 'top-R': ' ',\n",
        "            'mid-L': ' ', 'mid-M': ' ', 'mid-R': ' ',\n",
        "            'low-L': ' ', 'low-M': ' ', 'low-R': ' '}\n",
        "theBoard = {'top-L': ' ', 'top-M': ' ', 'top-R': ' ',\n",
        "            'mid-L': ' ', 'mid-M': 'X', 'mid-R': ' ',\n",
        "            'low-L': ' ', 'low-M': ' ', 'low-R': ' '}\n",
        "theBoard = {'top-L': 'O', 'top-M': 'O', 'top-R': 'O',\n",
        "            'mid-L': 'X', 'mid-M': 'X', 'mid-R': ' ',\n",
        "            'low-L': ' ', 'low-M': ' ', 'low-R': 'X'}\n",
        "\n",
        "def printBoard(board):\n",
        "    print(board['top-L'] + '|' + board['top-M'] + '|' + board['top-R'])\n",
        "    print('-+-+-')\n",
        "    print(board['mid-L'] + '|' + board['mid-M'] + '|' + board['mid-R'])\n",
        "    print('-+-+-')\n",
        "    print(board['low-L'] + '|' + board['low-M'] + '|' + board['low-R'])\n",
        "printBoard(theBoard)"
      ],
      "execution_count": 2,
      "outputs": [
        {
          "output_type": "stream",
          "text": [
            "O|O|O\n",
            "-+-+-\n",
            "X|X| \n",
            "-+-+-\n",
            " | |X\n"
          ],
          "name": "stdout"
        }
      ]
    }
  ]
}